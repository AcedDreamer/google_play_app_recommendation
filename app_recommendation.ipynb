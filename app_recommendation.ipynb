{
 "cells": [
  {
   "cell_type": "markdown",
   "metadata": {},
   "source": [
    "# Profitable Play Store App Recommendation\n",
    "\n",
    "The aim of this project is to find mobile app categories that are likely to be most profitable for Google Play markets. This project is meant for an imaginery company that is interested in building free mobile apps. Owing to the fact that ads are the major source of revenue for free apps, our dream company needs to develop only apps that can appeal to as many people as possible.\n",
    "\n",
    "The data used for this project contains 10841 rows and 13 columns and can be assessed [here](https://www.kaggle.com/lava18/google-play-store-apps) on kaggle."
   ]
  },
  {
   "cell_type": "markdown",
   "metadata": {},
   "source": [
    "# DATA EXPLORATION"
   ]
  },
  {
   "cell_type": "code",
   "execution_count": 644,
   "metadata": {},
   "outputs": [],
   "source": [
    "#import required library and files\n",
    "import pandas as pd\n",
    "import numpy as np\n",
    "import matplotlib.pyplot as plt\n",
    "%matplotlib inline\n",
    "\n",
    "#Show all columns\n",
    "#pd.options.display.max_columns\n",
    "\n",
    "#load data\n",
    "data = pd.read_csv(\"googleplaystore.csv\")"
   ]
  },
  {
   "cell_type": "markdown",
   "metadata": {},
   "source": [
    "\n",
    "\n",
    "# Column Description\n",
    "- App : Application name\n",
    "- Category : Category the app belongs to\n",
    "- Rating : Overall user rating of the app (as when scraped)\n",
    "- Reviews : Number of user reviews for the app (as when scraped)\n",
    "- Size : Size of the app (as when scraped)\n",
    "- Installs : Number of user downloads/installs for the app (as when scraped)\n",
    "- Type : Paid or Free\n",
    "- Price : Price of the app (as when scraped)\n",
    "- Content Rating : Age group the app is targeted at - Children / Mature 21+ / Adult\n",
    "- Genres : An app can belong to multiple genres (apart from its main category). For eg, a musical family game will belong to Music, Game, Family genres.\n",
    "- Last Updated : Date when the app was last updated on Play Store (as when scraped)\n",
    "- Current Ver : Current version of the app available on Play Store (as when scraped)\n",
    "- Android Ver : Min required Android version (as when scraped)"
   ]
  },
  {
   "cell_type": "code",
   "execution_count": 698,
   "metadata": {},
   "outputs": [
    {
     "data": {
      "text/html": [
       "<div>\n",
       "<style scoped>\n",
       "    .dataframe tbody tr th:only-of-type {\n",
       "        vertical-align: middle;\n",
       "    }\n",
       "\n",
       "    .dataframe tbody tr th {\n",
       "        vertical-align: top;\n",
       "    }\n",
       "\n",
       "    .dataframe thead th {\n",
       "        text-align: right;\n",
       "    }\n",
       "</style>\n",
       "<table border=\"1\" class=\"dataframe\">\n",
       "  <thead>\n",
       "    <tr style=\"text-align: right;\">\n",
       "      <th></th>\n",
       "      <th>App</th>\n",
       "      <th>Category</th>\n",
       "      <th>Rating</th>\n",
       "      <th>Reviews</th>\n",
       "      <th>Size</th>\n",
       "      <th>Installs</th>\n",
       "      <th>Type</th>\n",
       "      <th>Price</th>\n",
       "      <th>Content Rating</th>\n",
       "      <th>Genres</th>\n",
       "      <th>Last Updated</th>\n",
       "      <th>Current Ver</th>\n",
       "      <th>Android Ver</th>\n",
       "    </tr>\n",
       "  </thead>\n",
       "  <tbody>\n",
       "    <tr>\n",
       "      <td>0</td>\n",
       "      <td>Photo Editor &amp; Candy Camera &amp; Grid &amp; ScrapBook</td>\n",
       "      <td>ART_AND_DESIGN</td>\n",
       "      <td>4.1</td>\n",
       "      <td>159</td>\n",
       "      <td>19M</td>\n",
       "      <td>10,000+</td>\n",
       "      <td>Free</td>\n",
       "      <td>0</td>\n",
       "      <td>Everyone</td>\n",
       "      <td>Art &amp; Design</td>\n",
       "      <td>January 7, 2018</td>\n",
       "      <td>1.0.0</td>\n",
       "      <td>4.0.3 and up</td>\n",
       "    </tr>\n",
       "    <tr>\n",
       "      <td>1</td>\n",
       "      <td>Coloring book moana</td>\n",
       "      <td>ART_AND_DESIGN</td>\n",
       "      <td>3.9</td>\n",
       "      <td>967</td>\n",
       "      <td>14M</td>\n",
       "      <td>500,000+</td>\n",
       "      <td>Free</td>\n",
       "      <td>0</td>\n",
       "      <td>Everyone</td>\n",
       "      <td>Art &amp; Design;Pretend Play</td>\n",
       "      <td>January 15, 2018</td>\n",
       "      <td>2.0.0</td>\n",
       "      <td>4.0.3 and up</td>\n",
       "    </tr>\n",
       "    <tr>\n",
       "      <td>2</td>\n",
       "      <td>U Launcher Lite – FREE Live Cool Themes, Hide ...</td>\n",
       "      <td>ART_AND_DESIGN</td>\n",
       "      <td>4.7</td>\n",
       "      <td>87510</td>\n",
       "      <td>8.7M</td>\n",
       "      <td>5,000,000+</td>\n",
       "      <td>Free</td>\n",
       "      <td>0</td>\n",
       "      <td>Everyone</td>\n",
       "      <td>Art &amp; Design</td>\n",
       "      <td>August 1, 2018</td>\n",
       "      <td>1.2.4</td>\n",
       "      <td>4.0.3 and up</td>\n",
       "    </tr>\n",
       "    <tr>\n",
       "      <td>3</td>\n",
       "      <td>Sketch - Draw &amp; Paint</td>\n",
       "      <td>ART_AND_DESIGN</td>\n",
       "      <td>4.5</td>\n",
       "      <td>215644</td>\n",
       "      <td>25M</td>\n",
       "      <td>50,000,000+</td>\n",
       "      <td>Free</td>\n",
       "      <td>0</td>\n",
       "      <td>Teen</td>\n",
       "      <td>Art &amp; Design</td>\n",
       "      <td>June 8, 2018</td>\n",
       "      <td>Varies with device</td>\n",
       "      <td>4.2 and up</td>\n",
       "    </tr>\n",
       "    <tr>\n",
       "      <td>4</td>\n",
       "      <td>Pixel Draw - Number Art Coloring Book</td>\n",
       "      <td>ART_AND_DESIGN</td>\n",
       "      <td>4.3</td>\n",
       "      <td>967</td>\n",
       "      <td>2.8M</td>\n",
       "      <td>100,000+</td>\n",
       "      <td>Free</td>\n",
       "      <td>0</td>\n",
       "      <td>Everyone</td>\n",
       "      <td>Art &amp; Design;Creativity</td>\n",
       "      <td>June 20, 2018</td>\n",
       "      <td>1.1</td>\n",
       "      <td>4.4 and up</td>\n",
       "    </tr>\n",
       "  </tbody>\n",
       "</table>\n",
       "</div>"
      ],
      "text/plain": [
       "                                                 App        Category  Rating  \\\n",
       "0     Photo Editor & Candy Camera & Grid & ScrapBook  ART_AND_DESIGN     4.1   \n",
       "1                                Coloring book moana  ART_AND_DESIGN     3.9   \n",
       "2  U Launcher Lite – FREE Live Cool Themes, Hide ...  ART_AND_DESIGN     4.7   \n",
       "3                              Sketch - Draw & Paint  ART_AND_DESIGN     4.5   \n",
       "4              Pixel Draw - Number Art Coloring Book  ART_AND_DESIGN     4.3   \n",
       "\n",
       "  Reviews  Size     Installs  Type Price Content Rating  \\\n",
       "0     159   19M      10,000+  Free     0       Everyone   \n",
       "1     967   14M     500,000+  Free     0       Everyone   \n",
       "2   87510  8.7M   5,000,000+  Free     0       Everyone   \n",
       "3  215644   25M  50,000,000+  Free     0           Teen   \n",
       "4     967  2.8M     100,000+  Free     0       Everyone   \n",
       "\n",
       "                      Genres      Last Updated         Current Ver  \\\n",
       "0               Art & Design   January 7, 2018               1.0.0   \n",
       "1  Art & Design;Pretend Play  January 15, 2018               2.0.0   \n",
       "2               Art & Design    August 1, 2018               1.2.4   \n",
       "3               Art & Design      June 8, 2018  Varies with device   \n",
       "4    Art & Design;Creativity     June 20, 2018                 1.1   \n",
       "\n",
       "    Android Ver  \n",
       "0  4.0.3 and up  \n",
       "1  4.0.3 and up  \n",
       "2  4.0.3 and up  \n",
       "3    4.2 and up  \n",
       "4    4.4 and up  "
      ]
     },
     "metadata": {},
     "output_type": "display_data"
    },
    {
     "data": {
      "text/plain": [
       "(10841, 13)"
      ]
     },
     "execution_count": 698,
     "metadata": {},
     "output_type": "execute_result"
    }
   ],
   "source": [
    "display(data.head())\n",
    "data.shape"
   ]
  },
  {
   "cell_type": "markdown",
   "metadata": {},
   "source": [
    "We can see that the google play data set has 10841 entries and 13 columns.To read more about the description for the columns visit [here](https://www.kaggle.com/lava18/google-play-store-apps)."
   ]
  },
  {
   "attachments": {},
   "cell_type": "markdown",
   "metadata": {},
   "source": [
    "# Selecting Columns\n",
    "We need to exclude some columns that may not be very helpful for our purpose. The \"Price\" and \"Price\" columns seem to convey the same information. The \"Type\" column contains either \"Free\" or \"Paid\" values while the \"Price\" column contains currency digits. To get the free apps, we will use the Type column and drop the \"Price\" column. \n",
    "Next, we will be excluding the \"Genres\" column. This is because in google play store, categories are more descriptive of the app groups.\n",
    "\n",
    "<img src=\"screenshot.png\" width=\"800\" />\n",
    "\n",
    "This is also not too harmful considering the fact that the \"Genres\" and the \"App\" columns contain almost the same value. The \"Content Rating\" column describes the age group the app is meant for. As we are not interested in segmenting the apps by age group, we will exclude the \"Content Rating\" column. \n",
    "Lastly we will also exclude Size, \"Last Updated\", \"Current Ver\", \"Android Ver\" columns."
   ]
  },
  {
   "cell_type": "markdown",
   "metadata": {},
   "source": [
    "For the purpose of our analysis, will be most helpful. The columns include: App, Category, Reviews,Installs and Type. Let's go ahead and select those columns."
   ]
  },
  {
   "cell_type": "code",
   "execution_count": 646,
   "metadata": {},
   "outputs": [],
   "source": [
    "#selected  data\n",
    "data_selected = data[[\"App\",\"Category\",\"Reviews\",\"Installs\",\"Type\"]].copy()"
   ]
  },
  {
   "cell_type": "markdown",
   "metadata": {},
   "source": [
    " # Data Cleaning\n",
    "As with most datasets, there are noticeable inconsistencies in our dat that requires cleaning. To begin with, we need to handle row 10472 that has missing Category value which made the values in other columns to be shifted to the left.\n",
    "\n",
    "Let's define a function that would help us select records matching a particular app."
   ]
  },
  {
   "cell_type": "code",
   "execution_count": 647,
   "metadata": {},
   "outputs": [
    {
     "data": {
      "text/html": [
       "<div>\n",
       "<style scoped>\n",
       "    .dataframe tbody tr th:only-of-type {\n",
       "        vertical-align: middle;\n",
       "    }\n",
       "\n",
       "    .dataframe tbody tr th {\n",
       "        vertical-align: top;\n",
       "    }\n",
       "\n",
       "    .dataframe thead th {\n",
       "        text-align: right;\n",
       "    }\n",
       "</style>\n",
       "<table border=\"1\" class=\"dataframe\">\n",
       "  <thead>\n",
       "    <tr style=\"text-align: right;\">\n",
       "      <th></th>\n",
       "      <th>App</th>\n",
       "      <th>Category</th>\n",
       "      <th>Reviews</th>\n",
       "      <th>Installs</th>\n",
       "      <th>Type</th>\n",
       "    </tr>\n",
       "  </thead>\n",
       "  <tbody>\n",
       "    <tr>\n",
       "      <td>10472</td>\n",
       "      <td>Life Made WI-Fi Touchscreen Photo Frame</td>\n",
       "      <td>1.9</td>\n",
       "      <td>3.0M</td>\n",
       "      <td>Free</td>\n",
       "      <td>0</td>\n",
       "    </tr>\n",
       "  </tbody>\n",
       "</table>\n",
       "</div>"
      ],
      "text/plain": [
       "                                           App Category Reviews Installs Type\n",
       "10472  Life Made WI-Fi Touchscreen Photo Frame      1.9    3.0M     Free    0"
      ]
     },
     "execution_count": 647,
     "metadata": {},
     "output_type": "execute_result"
    }
   ],
   "source": [
    "def find_app(app,data):\n",
    "    \"\"\"\n",
    "    Searches and returns \n",
    "    \n",
    "    Args:\n",
    "        app (string) : App to be returned\n",
    "        data (Dataframe): App Dataframe \n",
    "        \n",
    "    Output:\n",
    "        app (Series Object): The App\n",
    "    \"\"\"\n",
    "    return data[data[\"App\"] == app]\n",
    "\n",
    "\n",
    "#A row with misplaced values\n",
    "find_app(\"Life Made WI-Fi Touchscreen Photo Frame\",data_selected)"
   ]
  },
  {
   "cell_type": "markdown",
   "metadata": {},
   "source": [
    "A Search from google play store on \"Life Made WI-Fi Touchscreen Photo Frame\" returned the following:\n",
    " - App = \"Life Made WI-Fi Touchscreen Photo Frame\"\n",
    "- category = \"GAME\"\n",
    "- reviews = 1.9\n",
    "- installs = \"500+\"\n",
    "- type_ = \"Free\"\n",
    "- price = 0\n",
    "- c_rating = \"Everyone\"\n",
    "- genres = None\n",
    "\n",
    "We found that this app belongs to the GAME category. To be fair to other apps, we will only update the category value of the missing app while retaining the values of other columns as of 2018. "
   ]
  },
  {
   "cell_type": "code",
   "execution_count": 648,
   "metadata": {},
   "outputs": [
    {
     "data": {
      "text/html": [
       "<div>\n",
       "<style scoped>\n",
       "    .dataframe tbody tr th:only-of-type {\n",
       "        vertical-align: middle;\n",
       "    }\n",
       "\n",
       "    .dataframe tbody tr th {\n",
       "        vertical-align: top;\n",
       "    }\n",
       "\n",
       "    .dataframe thead th {\n",
       "        text-align: right;\n",
       "    }\n",
       "</style>\n",
       "<table border=\"1\" class=\"dataframe\">\n",
       "  <thead>\n",
       "    <tr style=\"text-align: right;\">\n",
       "      <th></th>\n",
       "      <th>App</th>\n",
       "      <th>Category</th>\n",
       "      <th>Reviews</th>\n",
       "      <th>Installs</th>\n",
       "      <th>Type</th>\n",
       "    </tr>\n",
       "  </thead>\n",
       "  <tbody>\n",
       "    <tr>\n",
       "      <td>10472</td>\n",
       "      <td>Life Made WI-Fi Touchscreen Photo Frame</td>\n",
       "      <td>GAME</td>\n",
       "      <td>1.9</td>\n",
       "      <td>1,000+</td>\n",
       "      <td>Free</td>\n",
       "    </tr>\n",
       "  </tbody>\n",
       "</table>\n",
       "</div>"
      ],
      "text/plain": [
       "                                           App Category Reviews Installs  Type\n",
       "10472  Life Made WI-Fi Touchscreen Photo Frame     GAME     1.9   1,000+  Free"
      ]
     },
     "execution_count": 648,
     "metadata": {},
     "output_type": "execute_result"
    }
   ],
   "source": [
    "updated_10472 = {\"App\":\"Life Made WI-Fi Touchscreen Photo Frame\",\n",
    "                  \"Category\":\"GAME\",\n",
    "                \"Reviews\":1.9,\n",
    "                \"Installs\":\"1,000+\",\n",
    "                \"Type\":\"Free\",\n",
    "                \"Price\":0,\n",
    "                \"Content Rating\": \"Everyone\",\n",
    "                \"Genres\":np.nan}\n",
    "\n",
    "updated_10472\n",
    "#correct the missing values in row 10472\n",
    "data_selected.replace(data_selected.iloc[10472], updated_10472, inplace=True)\n",
    "find_app(\"Life Made WI-Fi Touchscreen Photo Frame\",data_selected)"
   ]
  },
  {
   "cell_type": "markdown",
   "metadata": {},
   "source": [
    "Since we are interested in free apps, lets select only apps that are free and exclude the rest."
   ]
  },
  {
   "cell_type": "code",
   "execution_count": 649,
   "metadata": {},
   "outputs": [
    {
     "data": {
      "text/plain": [
       "(10040, 5)"
      ]
     },
     "execution_count": 649,
     "metadata": {},
     "output_type": "execute_result"
    }
   ],
   "source": [
    "#select only free apps\n",
    "free_apps = data_selected[data_selected[\"Type\"] == \"Free\"].copy()\n",
    "free_apps.shape"
   ]
  },
  {
   "cell_type": "markdown",
   "metadata": {},
   "source": [
    "# Removing Duplicate Entries\n",
    "One of the issues we are to deal with include removing duplicate apps. There are about 1135 apps with duplicates. As we are trying to make recommendation for individual apps, it is important to ensure that no App occured more than once in our record. "
   ]
  },
  {
   "cell_type": "code",
   "execution_count": 650,
   "metadata": {},
   "outputs": [
    {
     "data": {
      "text/plain": [
       "1135"
      ]
     },
     "execution_count": 650,
     "metadata": {},
     "output_type": "execute_result"
    }
   ],
   "source": [
    "duplicated_bool = free_apps.duplicated(\"App\")\n",
    "duplicated_bool.sum()"
   ]
  },
  {
   "cell_type": "markdown",
   "metadata": {},
   "source": [
    "Let's explore three of the apps that were repeated to determine how to remove the duplicates."
   ]
  },
  {
   "cell_type": "code",
   "execution_count": 651,
   "metadata": {},
   "outputs": [],
   "source": [
    "#find an app\n",
    "def find_app(app,data):\n",
    "    return data[data[\"App\"] == app]"
   ]
  },
  {
   "cell_type": "code",
   "execution_count": 652,
   "metadata": {},
   "outputs": [
    {
     "data": {
      "text/html": [
       "<div>\n",
       "<style scoped>\n",
       "    .dataframe tbody tr th:only-of-type {\n",
       "        vertical-align: middle;\n",
       "    }\n",
       "\n",
       "    .dataframe tbody tr th {\n",
       "        vertical-align: top;\n",
       "    }\n",
       "\n",
       "    .dataframe thead th {\n",
       "        text-align: right;\n",
       "    }\n",
       "</style>\n",
       "<table border=\"1\" class=\"dataframe\">\n",
       "  <thead>\n",
       "    <tr style=\"text-align: right;\">\n",
       "      <th></th>\n",
       "      <th>App</th>\n",
       "      <th>Category</th>\n",
       "      <th>Reviews</th>\n",
       "      <th>Installs</th>\n",
       "      <th>Type</th>\n",
       "    </tr>\n",
       "  </thead>\n",
       "  <tbody>\n",
       "    <tr>\n",
       "      <td>1653</td>\n",
       "      <td>ROBLOX</td>\n",
       "      <td>GAME</td>\n",
       "      <td>4447388</td>\n",
       "      <td>100,000,000+</td>\n",
       "      <td>Free</td>\n",
       "    </tr>\n",
       "    <tr>\n",
       "      <td>1701</td>\n",
       "      <td>ROBLOX</td>\n",
       "      <td>GAME</td>\n",
       "      <td>4447346</td>\n",
       "      <td>100,000,000+</td>\n",
       "      <td>Free</td>\n",
       "    </tr>\n",
       "    <tr>\n",
       "      <td>1748</td>\n",
       "      <td>ROBLOX</td>\n",
       "      <td>GAME</td>\n",
       "      <td>4448791</td>\n",
       "      <td>100,000,000+</td>\n",
       "      <td>Free</td>\n",
       "    </tr>\n",
       "    <tr>\n",
       "      <td>1841</td>\n",
       "      <td>ROBLOX</td>\n",
       "      <td>GAME</td>\n",
       "      <td>4449882</td>\n",
       "      <td>100,000,000+</td>\n",
       "      <td>Free</td>\n",
       "    </tr>\n",
       "    <tr>\n",
       "      <td>1870</td>\n",
       "      <td>ROBLOX</td>\n",
       "      <td>GAME</td>\n",
       "      <td>4449910</td>\n",
       "      <td>100,000,000+</td>\n",
       "      <td>Free</td>\n",
       "    </tr>\n",
       "    <tr>\n",
       "      <td>2016</td>\n",
       "      <td>ROBLOX</td>\n",
       "      <td>FAMILY</td>\n",
       "      <td>4449910</td>\n",
       "      <td>100,000,000+</td>\n",
       "      <td>Free</td>\n",
       "    </tr>\n",
       "    <tr>\n",
       "      <td>2088</td>\n",
       "      <td>ROBLOX</td>\n",
       "      <td>FAMILY</td>\n",
       "      <td>4450855</td>\n",
       "      <td>100,000,000+</td>\n",
       "      <td>Free</td>\n",
       "    </tr>\n",
       "    <tr>\n",
       "      <td>2206</td>\n",
       "      <td>ROBLOX</td>\n",
       "      <td>FAMILY</td>\n",
       "      <td>4450890</td>\n",
       "      <td>100,000,000+</td>\n",
       "      <td>Free</td>\n",
       "    </tr>\n",
       "    <tr>\n",
       "      <td>4527</td>\n",
       "      <td>ROBLOX</td>\n",
       "      <td>FAMILY</td>\n",
       "      <td>4443407</td>\n",
       "      <td>100,000,000+</td>\n",
       "      <td>Free</td>\n",
       "    </tr>\n",
       "  </tbody>\n",
       "</table>\n",
       "</div>"
      ],
      "text/plain": [
       "         App Category  Reviews      Installs  Type\n",
       "1653  ROBLOX     GAME  4447388  100,000,000+  Free\n",
       "1701  ROBLOX     GAME  4447346  100,000,000+  Free\n",
       "1748  ROBLOX     GAME  4448791  100,000,000+  Free\n",
       "1841  ROBLOX     GAME  4449882  100,000,000+  Free\n",
       "1870  ROBLOX     GAME  4449910  100,000,000+  Free\n",
       "2016  ROBLOX   FAMILY  4449910  100,000,000+  Free\n",
       "2088  ROBLOX   FAMILY  4450855  100,000,000+  Free\n",
       "2206  ROBLOX   FAMILY  4450890  100,000,000+  Free\n",
       "4527  ROBLOX   FAMILY  4443407  100,000,000+  Free"
      ]
     },
     "execution_count": 652,
     "metadata": {},
     "output_type": "execute_result"
    }
   ],
   "source": [
    "find_app(\"ROBLOX\",free_apps)"
   ]
  },
  {
   "cell_type": "code",
   "execution_count": 653,
   "metadata": {},
   "outputs": [
    {
     "data": {
      "text/html": [
       "<div>\n",
       "<style scoped>\n",
       "    .dataframe tbody tr th:only-of-type {\n",
       "        vertical-align: middle;\n",
       "    }\n",
       "\n",
       "    .dataframe tbody tr th {\n",
       "        vertical-align: top;\n",
       "    }\n",
       "\n",
       "    .dataframe thead th {\n",
       "        text-align: right;\n",
       "    }\n",
       "</style>\n",
       "<table border=\"1\" class=\"dataframe\">\n",
       "  <thead>\n",
       "    <tr style=\"text-align: right;\">\n",
       "      <th></th>\n",
       "      <th>App</th>\n",
       "      <th>Category</th>\n",
       "      <th>Reviews</th>\n",
       "      <th>Installs</th>\n",
       "      <th>Type</th>\n",
       "    </tr>\n",
       "  </thead>\n",
       "  <tbody>\n",
       "    <tr>\n",
       "      <td>2545</td>\n",
       "      <td>Instagram</td>\n",
       "      <td>SOCIAL</td>\n",
       "      <td>66577313</td>\n",
       "      <td>1,000,000,000+</td>\n",
       "      <td>Free</td>\n",
       "    </tr>\n",
       "    <tr>\n",
       "      <td>2604</td>\n",
       "      <td>Instagram</td>\n",
       "      <td>SOCIAL</td>\n",
       "      <td>66577446</td>\n",
       "      <td>1,000,000,000+</td>\n",
       "      <td>Free</td>\n",
       "    </tr>\n",
       "    <tr>\n",
       "      <td>2611</td>\n",
       "      <td>Instagram</td>\n",
       "      <td>SOCIAL</td>\n",
       "      <td>66577313</td>\n",
       "      <td>1,000,000,000+</td>\n",
       "      <td>Free</td>\n",
       "    </tr>\n",
       "    <tr>\n",
       "      <td>3909</td>\n",
       "      <td>Instagram</td>\n",
       "      <td>SOCIAL</td>\n",
       "      <td>66509917</td>\n",
       "      <td>1,000,000,000+</td>\n",
       "      <td>Free</td>\n",
       "    </tr>\n",
       "  </tbody>\n",
       "</table>\n",
       "</div>"
      ],
      "text/plain": [
       "            App Category   Reviews        Installs  Type\n",
       "2545  Instagram   SOCIAL  66577313  1,000,000,000+  Free\n",
       "2604  Instagram   SOCIAL  66577446  1,000,000,000+  Free\n",
       "2611  Instagram   SOCIAL  66577313  1,000,000,000+  Free\n",
       "3909  Instagram   SOCIAL  66509917  1,000,000,000+  Free"
      ]
     },
     "execution_count": 653,
     "metadata": {},
     "output_type": "execute_result"
    }
   ],
   "source": [
    "find_app(\"Instagram\",free_apps)"
   ]
  },
  {
   "cell_type": "code",
   "execution_count": 654,
   "metadata": {},
   "outputs": [
    {
     "data": {
      "text/html": [
       "<div>\n",
       "<style scoped>\n",
       "    .dataframe tbody tr th:only-of-type {\n",
       "        vertical-align: middle;\n",
       "    }\n",
       "\n",
       "    .dataframe tbody tr th {\n",
       "        vertical-align: top;\n",
       "    }\n",
       "\n",
       "    .dataframe thead th {\n",
       "        text-align: right;\n",
       "    }\n",
       "</style>\n",
       "<table border=\"1\" class=\"dataframe\">\n",
       "  <thead>\n",
       "    <tr style=\"text-align: right;\">\n",
       "      <th></th>\n",
       "      <th>App</th>\n",
       "      <th>Category</th>\n",
       "      <th>Reviews</th>\n",
       "      <th>Installs</th>\n",
       "      <th>Type</th>\n",
       "    </tr>\n",
       "  </thead>\n",
       "  <tbody>\n",
       "    <tr>\n",
       "      <td>1675</td>\n",
       "      <td>8 Ball Pool</td>\n",
       "      <td>GAME</td>\n",
       "      <td>14198297</td>\n",
       "      <td>100,000,000+</td>\n",
       "      <td>Free</td>\n",
       "    </tr>\n",
       "    <tr>\n",
       "      <td>1703</td>\n",
       "      <td>8 Ball Pool</td>\n",
       "      <td>GAME</td>\n",
       "      <td>14198602</td>\n",
       "      <td>100,000,000+</td>\n",
       "      <td>Free</td>\n",
       "    </tr>\n",
       "    <tr>\n",
       "      <td>1755</td>\n",
       "      <td>8 Ball Pool</td>\n",
       "      <td>GAME</td>\n",
       "      <td>14200344</td>\n",
       "      <td>100,000,000+</td>\n",
       "      <td>Free</td>\n",
       "    </tr>\n",
       "    <tr>\n",
       "      <td>1844</td>\n",
       "      <td>8 Ball Pool</td>\n",
       "      <td>GAME</td>\n",
       "      <td>14200550</td>\n",
       "      <td>100,000,000+</td>\n",
       "      <td>Free</td>\n",
       "    </tr>\n",
       "    <tr>\n",
       "      <td>1871</td>\n",
       "      <td>8 Ball Pool</td>\n",
       "      <td>GAME</td>\n",
       "      <td>14201891</td>\n",
       "      <td>100,000,000+</td>\n",
       "      <td>Free</td>\n",
       "    </tr>\n",
       "    <tr>\n",
       "      <td>1970</td>\n",
       "      <td>8 Ball Pool</td>\n",
       "      <td>GAME</td>\n",
       "      <td>14201604</td>\n",
       "      <td>100,000,000+</td>\n",
       "      <td>Free</td>\n",
       "    </tr>\n",
       "    <tr>\n",
       "      <td>3953</td>\n",
       "      <td>8 Ball Pool</td>\n",
       "      <td>SPORTS</td>\n",
       "      <td>14184910</td>\n",
       "      <td>100,000,000+</td>\n",
       "      <td>Free</td>\n",
       "    </tr>\n",
       "  </tbody>\n",
       "</table>\n",
       "</div>"
      ],
      "text/plain": [
       "              App Category   Reviews      Installs  Type\n",
       "1675  8 Ball Pool     GAME  14198297  100,000,000+  Free\n",
       "1703  8 Ball Pool     GAME  14198602  100,000,000+  Free\n",
       "1755  8 Ball Pool     GAME  14200344  100,000,000+  Free\n",
       "1844  8 Ball Pool     GAME  14200550  100,000,000+  Free\n",
       "1871  8 Ball Pool     GAME  14201891  100,000,000+  Free\n",
       "1970  8 Ball Pool     GAME  14201604  100,000,000+  Free\n",
       "3953  8 Ball Pool   SPORTS  14184910  100,000,000+  Free"
      ]
     },
     "execution_count": 654,
     "metadata": {},
     "output_type": "execute_result"
    }
   ],
   "source": [
    "find_app(\"8 Ball Pool\",free_apps)"
   ]
  },
  {
   "cell_type": "markdown",
   "metadata": {},
   "source": [
    "Looking at the columns of the above three apps examined, one of the things noticeable is that some apps have two categories. For instance, Roblox belongs to Game and Family Category while \"8 Ball Pool\" belongs to both Game and Sports category. This cannot be as it is the same app. To resolve this issue, we will be replacing the categories of the duplicated apps with the most frequent value. \n",
    "\n",
    "For excluding the duplicates, the \"Reviews\" column looks interesting. The variable figures in the \"Reviews\" columns show that each entry was made at a different time. In order to get our single entry, we could take the average of all the review entries or select the entry with the highest reviews. We will go with the second option. \n",
    "Let's get and set the most frequent category first."
   ]
  },
  {
   "cell_type": "code",
   "execution_count": 655,
   "metadata": {},
   "outputs": [],
   "source": [
    "#Unique List of duplicated apps\n",
    "duplicated_apps = free_apps[duplicated_bool][\"App\"].unique()\n",
    "\n",
    "from collections import Counter\n",
    "\n",
    "def set_most_occured(df):\n",
    "    \"\"\"\n",
    "    Replaces apps with duplicates with more than one category with the most frequent\n",
    "    category value.\n",
    "    \n",
    "    Args:\n",
    "        df (Dataframe): The Dataframe Object containing the apps\n",
    "        \n",
    "    Output: \n",
    "        df (Dataframe): New Dataframe with the most frequent category\n",
    "        value for duplicated apps\n",
    "    \"\"\"\n",
    "    for k, row in df.iterrows():\n",
    "        for app in duplicated_apps:\n",
    "            if row[\"App\"] == app:\n",
    "                app_cats = find_app(app,df)[\"Category\"]\n",
    "                if len(set(app_cats)) > 1:\n",
    "                    most_occured_cat = Counter(app_cats).most_common(1)[0][0]\n",
    "                    row[\"Category\"] = most_occured_cat\n",
    "    return df\n",
    "unique_app_cats = set_most_occured(free_apps)"
   ]
  },
  {
   "cell_type": "code",
   "execution_count": 656,
   "metadata": {},
   "outputs": [
    {
     "data": {
      "text/html": [
       "<div>\n",
       "<style scoped>\n",
       "    .dataframe tbody tr th:only-of-type {\n",
       "        vertical-align: middle;\n",
       "    }\n",
       "\n",
       "    .dataframe tbody tr th {\n",
       "        vertical-align: top;\n",
       "    }\n",
       "\n",
       "    .dataframe thead th {\n",
       "        text-align: right;\n",
       "    }\n",
       "</style>\n",
       "<table border=\"1\" class=\"dataframe\">\n",
       "  <thead>\n",
       "    <tr style=\"text-align: right;\">\n",
       "      <th></th>\n",
       "      <th>App</th>\n",
       "      <th>Category</th>\n",
       "      <th>Reviews</th>\n",
       "      <th>Installs</th>\n",
       "      <th>Type</th>\n",
       "    </tr>\n",
       "  </thead>\n",
       "  <tbody>\n",
       "    <tr>\n",
       "      <td>1653</td>\n",
       "      <td>ROBLOX</td>\n",
       "      <td>GAME</td>\n",
       "      <td>4447388</td>\n",
       "      <td>100,000,000+</td>\n",
       "      <td>Free</td>\n",
       "    </tr>\n",
       "    <tr>\n",
       "      <td>1701</td>\n",
       "      <td>ROBLOX</td>\n",
       "      <td>GAME</td>\n",
       "      <td>4447346</td>\n",
       "      <td>100,000,000+</td>\n",
       "      <td>Free</td>\n",
       "    </tr>\n",
       "    <tr>\n",
       "      <td>1748</td>\n",
       "      <td>ROBLOX</td>\n",
       "      <td>GAME</td>\n",
       "      <td>4448791</td>\n",
       "      <td>100,000,000+</td>\n",
       "      <td>Free</td>\n",
       "    </tr>\n",
       "    <tr>\n",
       "      <td>1841</td>\n",
       "      <td>ROBLOX</td>\n",
       "      <td>GAME</td>\n",
       "      <td>4449882</td>\n",
       "      <td>100,000,000+</td>\n",
       "      <td>Free</td>\n",
       "    </tr>\n",
       "    <tr>\n",
       "      <td>1870</td>\n",
       "      <td>ROBLOX</td>\n",
       "      <td>GAME</td>\n",
       "      <td>4449910</td>\n",
       "      <td>100,000,000+</td>\n",
       "      <td>Free</td>\n",
       "    </tr>\n",
       "    <tr>\n",
       "      <td>2016</td>\n",
       "      <td>ROBLOX</td>\n",
       "      <td>GAME</td>\n",
       "      <td>4449910</td>\n",
       "      <td>100,000,000+</td>\n",
       "      <td>Free</td>\n",
       "    </tr>\n",
       "    <tr>\n",
       "      <td>2088</td>\n",
       "      <td>ROBLOX</td>\n",
       "      <td>GAME</td>\n",
       "      <td>4450855</td>\n",
       "      <td>100,000,000+</td>\n",
       "      <td>Free</td>\n",
       "    </tr>\n",
       "    <tr>\n",
       "      <td>2206</td>\n",
       "      <td>ROBLOX</td>\n",
       "      <td>GAME</td>\n",
       "      <td>4450890</td>\n",
       "      <td>100,000,000+</td>\n",
       "      <td>Free</td>\n",
       "    </tr>\n",
       "    <tr>\n",
       "      <td>4527</td>\n",
       "      <td>ROBLOX</td>\n",
       "      <td>GAME</td>\n",
       "      <td>4443407</td>\n",
       "      <td>100,000,000+</td>\n",
       "      <td>Free</td>\n",
       "    </tr>\n",
       "  </tbody>\n",
       "</table>\n",
       "</div>"
      ],
      "text/plain": [
       "         App Category  Reviews      Installs  Type\n",
       "1653  ROBLOX     GAME  4447388  100,000,000+  Free\n",
       "1701  ROBLOX     GAME  4447346  100,000,000+  Free\n",
       "1748  ROBLOX     GAME  4448791  100,000,000+  Free\n",
       "1841  ROBLOX     GAME  4449882  100,000,000+  Free\n",
       "1870  ROBLOX     GAME  4449910  100,000,000+  Free\n",
       "2016  ROBLOX     GAME  4449910  100,000,000+  Free\n",
       "2088  ROBLOX     GAME  4450855  100,000,000+  Free\n",
       "2206  ROBLOX     GAME  4450890  100,000,000+  Free\n",
       "4527  ROBLOX     GAME  4443407  100,000,000+  Free"
      ]
     },
     "execution_count": 656,
     "metadata": {},
     "output_type": "execute_result"
    }
   ],
   "source": [
    "find_app(\"ROBLOX\",unique_app_cats)"
   ]
  },
  {
   "cell_type": "markdown",
   "metadata": {},
   "source": [
    "Now we have unique category for apps repeated apps. Let's keep all apps with the highest reviews and drop the rest of the duplicates. The Reviews column are stored as Object. So we need to convert the Reviews column to int type. We will sort all apps by Reviews in descending order and take the topmost rows. "
   ]
  },
  {
   "cell_type": "code",
   "execution_count": 657,
   "metadata": {},
   "outputs": [
    {
     "data": {
      "text/plain": [
       "0"
      ]
     },
     "metadata": {},
     "output_type": "display_data"
    },
    {
     "data": {
      "text/plain": [
       "'8905 apps'"
      ]
     },
     "execution_count": 657,
     "metadata": {},
     "output_type": "execute_result"
    }
   ],
   "source": [
    "unique_app_cats[\"Reviews\"] = unique_app_cats[\"Reviews\"].astype(int)\n",
    "unique_app_cats.sort_values(\"Reviews\", ascending=False, inplace=True)\n",
    "#Drop other rows except the first with the highest reviews\n",
    "non_duplicates = unique_app_cats.drop_duplicates(\"App\").copy()\n",
    "display(non_duplicates.duplicated().sum())\n",
    "str(non_duplicates.shape[0]) + \" apps\""
   ]
  },
  {
   "cell_type": "markdown",
   "metadata": {},
   "source": [
    "After removing duplicate apps, we are left with 8905 apps"
   ]
  },
  {
   "cell_type": "markdown",
   "metadata": {},
   "source": [
    "# Handling inconsistent data\n",
    "So far, only the \"Reviews\" column is stored as int type. To help our analysis, we would need to convert \"Installs\" column to int type as well. To do this, we have to get rid of the \"+\" signs at the end of the values as well as the commas within them. Note the final values we will be obtaining will be approximated just as the + sign after them indicate. For instance 1000 will mean 1000 and above. "
   ]
  },
  {
   "cell_type": "code",
   "execution_count": 658,
   "metadata": {},
   "outputs": [],
   "source": [
    "non_duplicates[\"Installs\"] =  non_duplicates[\"Installs\"].str.replace(\"+\",\"\").str.replace(\",\",\"\").astype(int)"
   ]
  },
  {
   "cell_type": "markdown",
   "metadata": {},
   "source": [
    "The Type column has only one value for all rows. Let's drop this column before continuing with our analysis."
   ]
  },
  {
   "cell_type": "code",
   "execution_count": 659,
   "metadata": {},
   "outputs": [],
   "source": [
    "non_duplicates.drop(columns = \"Type\", axis=1, inplace=True)"
   ]
  },
  {
   "cell_type": "markdown",
   "metadata": {},
   "source": [
    "# Data Description and Analysis"
   ]
  },
  {
   "cell_type": "code",
   "execution_count": 661,
   "metadata": {},
   "outputs": [
    {
     "data": {
      "text/plain": [
       "FAMILY                 18.551376\n",
       "GAME                    9.814711\n",
       "TOOLS                   8.422235\n",
       "BUSINESS                4.581696\n",
       "LIFESTYLE               3.930376\n",
       "PRODUCTIVITY            3.885458\n",
       "FINANCE                 3.683324\n",
       "MEDICAL                 3.514879\n",
       "SPORTS                  3.380124\n",
       "PERSONALIZATION         3.312746\n",
       "COMMUNICATION           3.234138\n",
       "HEALTH_AND_FITNESS      3.065693\n",
       "PHOTOGRAPHY             2.942167\n",
       "NEWS_AND_MAGAZINES      2.829871\n",
       "SOCIAL                  2.650197\n",
       "TRAVEL_AND_LOCAL        2.324537\n",
       "SHOPPING                2.245929\n",
       "BOOKS_AND_REFERENCE     2.178551\n",
       "DATING                  1.852892\n",
       "VIDEO_PLAYERS           1.796743\n",
       "MAPS_AND_NAVIGATION     1.414935\n",
       "EDUCATION               1.291409\n",
       "FOOD_AND_DRINK          1.235261\n",
       "ENTERTAINMENT           1.111735\n",
       "LIBRARIES_AND_DEMO      0.932061\n",
       "AUTO_AND_VEHICLES       0.920831\n",
       "HOUSE_AND_HOME          0.830994\n",
       "WEATHER                 0.797305\n",
       "EVENTS                  0.707468\n",
       "ART_AND_DESIGN          0.685008\n",
       "PARENTING               0.651319\n",
       "COMICS                  0.628860\n",
       "BEAUTY                  0.595171\n",
       "Name: Category, dtype: float64"
      ]
     },
     "execution_count": 661,
     "metadata": {},
     "output_type": "execute_result"
    }
   ],
   "source": [
    "non_duplicates[\"Category\"].value_counts(normalize=True)*100"
   ]
  },
  {
   "attachments": {},
   "cell_type": "markdown",
   "metadata": {},
   "source": [
    "It looks like there are approximatelt two times more FAMILY apps (about 19%) than GAME apps (10%) in Google Store. This looks a bit surprising owning to the fact that about [2.2 billion](https://kommandotech.com/statistics/mobile-gaming-statistics/) people play games on mobile phone. However, if we investigate this further, we can see that the family category (which accounts for almost 19% of the apps) means mostly games for kids.\n",
    "\n",
    "<img src=\"family.png\" width=\"800\" />\n",
    "\n",
    "\n",
    "The next category after FAMILY and GAME is TOOLS category (about 9%). Generally it seems that a good number of apps are designed for practical purposes (family, tools, games, business, lifestyle, productivity, etc.)"
   ]
  },
  {
   "cell_type": "markdown",
   "metadata": {},
   "source": [
    "One way to determine most popular apps is to compare the number of intalls for each app category. Let's use the information we have so far to determine the most popular app Category by Installs"
   ]
  },
  {
   "cell_type": "markdown",
   "metadata": {},
   "source": [
    "# Most popular Category by Installs"
   ]
  },
  {
   "cell_type": "code",
   "execution_count": 662,
   "metadata": {},
   "outputs": [],
   "source": [
    "installs_by_cat = (non_duplicates.groupby(\"Category\")\n",
    "    .mean().sort_values(\"Installs\", ascending=False)[\"Installs\"].astype(int))"
   ]
  },
  {
   "cell_type": "code",
   "execution_count": 681,
   "metadata": {},
   "outputs": [
    {
     "data": {
      "text/plain": [
       "<matplotlib.axes._subplots.AxesSubplot at 0x12aee6b10>"
      ]
     },
     "execution_count": 681,
     "metadata": {},
     "output_type": "execute_result"
    },
    {
     "data": {
      "image/png": "[encoded data removed]",
      "text/plain": [
       "<Figure size 1080x432 with 1 Axes>"
      ]
     },
     "metadata": {
      "needs_background": "light"
     },
     "output_type": "display_data"
    }
   ],
   "source": [
    "installs_by_cat.plot.bar(figsize=(15,6), rot=\"70\", title=\"Installs by Category\")"
   ]
  },
  {
   "cell_type": "markdown",
   "metadata": {},
   "source": [
    "On average, communication apps have the most installs: 38,322,625. However, this number is heavily skewed up by a few apps that have over one billion installs. This makes sense because everything we do today revolves almost around communication. But it's important we found out which apps under Communication Category are skewing our data. Let's check this. "
   ]
  },
  {
   "cell_type": "code",
   "execution_count": 682,
   "metadata": {},
   "outputs": [
    {
     "data": {
      "text/html": [
       "<div>\n",
       "<style scoped>\n",
       "    .dataframe tbody tr th:only-of-type {\n",
       "        vertical-align: middle;\n",
       "    }\n",
       "\n",
       "    .dataframe tbody tr th {\n",
       "        vertical-align: top;\n",
       "    }\n",
       "\n",
       "    .dataframe thead th {\n",
       "        text-align: right;\n",
       "    }\n",
       "</style>\n",
       "<table border=\"1\" class=\"dataframe\">\n",
       "  <thead>\n",
       "    <tr style=\"text-align: right;\">\n",
       "      <th></th>\n",
       "      <th>App</th>\n",
       "      <th>Category</th>\n",
       "      <th>Reviews</th>\n",
       "      <th>Installs</th>\n",
       "    </tr>\n",
       "  </thead>\n",
       "  <tbody>\n",
       "    <tr>\n",
       "      <td>336</td>\n",
       "      <td>WhatsApp Messenger</td>\n",
       "      <td>COMMUNICATION</td>\n",
       "      <td>69119316</td>\n",
       "      <td>1000000000</td>\n",
       "    </tr>\n",
       "    <tr>\n",
       "      <td>382</td>\n",
       "      <td>Messenger – Text and Video Chat for Free</td>\n",
       "      <td>COMMUNICATION</td>\n",
       "      <td>56646578</td>\n",
       "      <td>1000000000</td>\n",
       "    </tr>\n",
       "    <tr>\n",
       "      <td>420</td>\n",
       "      <td>UC Browser - Fast Download Private &amp; Secure</td>\n",
       "      <td>COMMUNICATION</td>\n",
       "      <td>17714850</td>\n",
       "      <td>500000000</td>\n",
       "    </tr>\n",
       "    <tr>\n",
       "      <td>4676</td>\n",
       "      <td>Viber Messenger</td>\n",
       "      <td>COMMUNICATION</td>\n",
       "      <td>11335481</td>\n",
       "      <td>500000000</td>\n",
       "    </tr>\n",
       "    <tr>\n",
       "      <td>403</td>\n",
       "      <td>LINE: Free Calls &amp; Messages</td>\n",
       "      <td>COMMUNICATION</td>\n",
       "      <td>10790289</td>\n",
       "      <td>500000000</td>\n",
       "    </tr>\n",
       "    <tr>\n",
       "      <td>4234</td>\n",
       "      <td>Skype - free IM &amp; video calls</td>\n",
       "      <td>COMMUNICATION</td>\n",
       "      <td>10484169</td>\n",
       "      <td>1000000000</td>\n",
       "    </tr>\n",
       "    <tr>\n",
       "      <td>411</td>\n",
       "      <td>Google Chrome: Fast &amp; Secure</td>\n",
       "      <td>COMMUNICATION</td>\n",
       "      <td>9643041</td>\n",
       "      <td>1000000000</td>\n",
       "    </tr>\n",
       "    <tr>\n",
       "      <td>465</td>\n",
       "      <td>imo free video calls and chat</td>\n",
       "      <td>COMMUNICATION</td>\n",
       "      <td>4785988</td>\n",
       "      <td>500000000</td>\n",
       "    </tr>\n",
       "    <tr>\n",
       "      <td>451</td>\n",
       "      <td>Gmail</td>\n",
       "      <td>COMMUNICATION</td>\n",
       "      <td>4604483</td>\n",
       "      <td>1000000000</td>\n",
       "    </tr>\n",
       "    <tr>\n",
       "      <td>464</td>\n",
       "      <td>Hangouts</td>\n",
       "      <td>COMMUNICATION</td>\n",
       "      <td>3419513</td>\n",
       "      <td>1000000000</td>\n",
       "    </tr>\n",
       "    <tr>\n",
       "      <td>371</td>\n",
       "      <td>Google Duo - High Quality Video Calls</td>\n",
       "      <td>COMMUNICATION</td>\n",
       "      <td>2083237</td>\n",
       "      <td>500000000</td>\n",
       "    </tr>\n",
       "  </tbody>\n",
       "</table>\n",
       "</div>"
      ],
      "text/plain": [
       "                                              App       Category   Reviews  \\\n",
       "336                            WhatsApp Messenger  COMMUNICATION  69119316   \n",
       "382      Messenger – Text and Video Chat for Free  COMMUNICATION  56646578   \n",
       "420   UC Browser - Fast Download Private & Secure  COMMUNICATION  17714850   \n",
       "4676                              Viber Messenger  COMMUNICATION  11335481   \n",
       "403                   LINE: Free Calls & Messages  COMMUNICATION  10790289   \n",
       "4234                Skype - free IM & video calls  COMMUNICATION  10484169   \n",
       "411                  Google Chrome: Fast & Secure  COMMUNICATION   9643041   \n",
       "465                 imo free video calls and chat  COMMUNICATION   4785988   \n",
       "451                                         Gmail  COMMUNICATION   4604483   \n",
       "464                                      Hangouts  COMMUNICATION   3419513   \n",
       "371         Google Duo - High Quality Video Calls  COMMUNICATION   2083237   \n",
       "\n",
       "        Installs  \n",
       "336   1000000000  \n",
       "382   1000000000  \n",
       "420    500000000  \n",
       "4676   500000000  \n",
       "403    500000000  \n",
       "4234  1000000000  \n",
       "411   1000000000  \n",
       "465    500000000  \n",
       "451   1000000000  \n",
       "464   1000000000  \n",
       "371    500000000  "
      ]
     },
     "execution_count": 682,
     "metadata": {},
     "output_type": "execute_result"
    }
   ],
   "source": [
    "non_duplicates.reset_index()\n",
    "communication = non_duplicates[non_duplicates[\"Category\"]==\"COMMUNICATION\"]\n",
    "over_100_million_c = communication[communication[\"Installs\"] > 100000000]\n",
    "over_100_million_c"
   ]
  },
  {
   "cell_type": "markdown",
   "metadata": {},
   "source": [
    "As we can see from above, it looks like apps from the tech giants Facebook, Google and others have over 100 millon installs. This will skew our analysis to a greater extent. \n",
    "\n",
    "Let's check if this is the case for apps of all categories"
   ]
  },
  {
   "cell_type": "code",
   "execution_count": 688,
   "metadata": {},
   "outputs": [
    {
     "data": {
      "text/plain": [
       "array(['Facebook', 'WhatsApp Messenger', 'Instagram',\n",
       "       'Messenger – Text and Video Chat for Free',\n",
       "       'Clean Master- Space Cleaner & Antivirus', 'Subway Surfers',\n",
       "       'YouTube', 'Security Master - Antivirus, VPN, AppLock, Booster',\n",
       "       'Candy Crush Saga', 'UC Browser - Fast Download Private & Secure',\n",
       "       'Snapchat', 'My Talking Tom', 'Twitter', 'Viber Messenger',\n",
       "       'Google Photos', 'LINE: Free Calls & Messages', 'Pou',\n",
       "       'Skype - free IM & video calls', 'Google Chrome: Fast & Secure',\n",
       "       'Maps - Navigate & Explore', 'Facebook Lite', 'Temple Run 2',\n",
       "       'Google', 'SHAREit - Transfer & Share', 'Google Play Games',\n",
       "       'MX Player', 'Google Translate', 'Google+',\n",
       "       'imo free video calls and chat', 'Gmail', 'Hangouts',\n",
       "       'Google Drive', 'Google Street View', 'Microsoft Word',\n",
       "       'Google Duo - High Quality Video Calls', 'Dropbox',\n",
       "       'Gboard - the Google Keyboard', 'Google Play Books',\n",
       "       'Flipboard: News For Our Time', 'Google Play Movies & TV',\n",
       "       'Google News', 'Google Calendar', 'Samsung Health', 'Cloud Print'],\n",
       "      dtype=object)"
      ]
     },
     "execution_count": 688,
     "metadata": {},
     "output_type": "execute_result"
    }
   ],
   "source": [
    "#apps with over 100 million installs from all categories\n",
    "over_100_million_all = non_duplicates[non_duplicates[\"Installs\"] > 100000000]\n",
    "over_100_million_all[\"App\"].unique()"
   ]
  },
  {
   "cell_type": "markdown",
   "metadata": {},
   "source": [
    "Apps by Facebook and Google are still dominating across various categories. Competing with any of these giants at the start of a new project is not the ideal. \n",
    "So let's exclude all apps with over a million installs and recalculate the average by install"
   ]
  },
  {
   "cell_type": "code",
   "execution_count": 690,
   "metadata": {},
   "outputs": [],
   "source": [
    "non_duplicates.reindex()\n",
    "over_a_million = non_duplicates[(non_duplicates[\"Installs\"] > 1000000) \n",
    "                                & (non_duplicates[\"Installs\"] < 100000000)] "
   ]
  },
  {
   "cell_type": "code",
   "execution_count": 693,
   "metadata": {},
   "outputs": [
    {
     "data": {
      "text/plain": [
       "Category\n",
       "VIDEO_PLAYERS          18488372\n",
       "PHOTOGRAPHY            17142857\n",
       "WEATHER                15952380\n",
       "GAME                   15182926\n",
       "TOOLS                  15000000\n",
       "PRODUCTIVITY           14855072\n",
       "BUSINESS               13787878\n",
       "ART_AND_DESIGN         13125000\n",
       "SHOPPING               12761194\n",
       "FAMILY                 12462121\n",
       "COMMUNICATION          12361111\n",
       "ENTERTAINMENT          12209302\n",
       "SOCIAL                 11944444\n",
       "SPORTS                 11666666\n",
       "PERSONALIZATION        11637931\n",
       "TRAVEL_AND_LOCAL       11000000\n",
       "MAPS_AND_NAVIGATION    10185185\n",
       "NEWS_AND_MAGAZINES      9264705\n",
       "LIFESTYLE               8846153\n",
       "HEALTH_AND_FITNESS      8703703\n",
       "BOOKS_AND_REFERENCE     8392857\n",
       "FINANCE                 8142857\n",
       "LIBRARIES_AND_DEMO      8000000\n",
       "DATING                  7857142\n",
       "FOOD_AND_DRINK          7826086\n",
       "HOUSE_AND_HOME          7777777\n",
       "PARENTING               7500000\n",
       "BEAUTY                  7500000\n",
       "EDUCATION               7321428\n",
       "AUTO_AND_VEHICLES       7000000\n",
       "COMICS                  6000000\n",
       "EVENTS                  5000000\n",
       "MEDICAL                 5000000\n",
       "Name: Installs, dtype: int64"
      ]
     },
     "execution_count": 693,
     "metadata": {},
     "output_type": "execute_result"
    }
   ],
   "source": [
    "groupby_cat = (over_a_million.groupby(\"Category\")\n",
    "                     .mean().sort_values(\"Installs\", ascending=False).astype(int))\n",
    "groupby_cat[\"Installs\"] "
   ]
  },
  {
   "cell_type": "code",
   "execution_count": 687,
   "metadata": {},
   "outputs": [
    {
     "data": {
      "text/plain": [
       "<matplotlib.axes._subplots.AxesSubplot at 0x12b78f8d0>"
      ]
     },
     "execution_count": 687,
     "metadata": {},
     "output_type": "execute_result"
    },
    {
     "data": {
      "image/png": "[encoded data removed]",
      "text/plain": [
       "<Figure size 1080x432 with 1 Axes>"
      ]
     },
     "metadata": {
      "needs_background": "light"
     },
     "output_type": "display_data"
    }
   ],
   "source": [
    "groupby_cat [\"Installs\"].plot.bar(figsize=(15,6), rot=\"70\", title=\"Installs between 1m and 100m by Categories\")"
   ]
  },
  {
   "cell_type": "markdown",
   "metadata": {},
   "source": [
    "Our app is looking good now with the most installed being capped at around 18m installs (Photography Apps). The heavy skew caused by apps with over 100m installs have been reduced. While an app that has recorded a million install is way under, it shows a promising Category that could blossom in the future. Let's reduce our options further by selecting only apps with over a million installs and 100 million installs"
   ]
  },
  {
   "cell_type": "markdown",
   "metadata": {},
   "source": [
    "To determine most sought after app among our apps, Reviews are very important. Feedbacks show users engagement with a product. It's important that users do not only install apps, but also interract with them it. Reviews are the only credible proof that would demonstrate that an app was used. \n",
    "\n",
    "We Let's get our best performing app category by reviews and installs next."
   ]
  },
  {
   "cell_type": "code",
   "execution_count": 671,
   "metadata": {},
   "outputs": [
    {
     "data": {
      "text/html": [
       "<div>\n",
       "<style scoped>\n",
       "    .dataframe tbody tr th:only-of-type {\n",
       "        vertical-align: middle;\n",
       "    }\n",
       "\n",
       "    .dataframe tbody tr th {\n",
       "        vertical-align: top;\n",
       "    }\n",
       "\n",
       "    .dataframe thead th {\n",
       "        text-align: right;\n",
       "    }\n",
       "</style>\n",
       "<table border=\"1\" class=\"dataframe\">\n",
       "  <thead>\n",
       "    <tr style=\"text-align: right;\">\n",
       "      <th></th>\n",
       "      <th>Reviews</th>\n",
       "      <th>Installs</th>\n",
       "    </tr>\n",
       "    <tr>\n",
       "      <th>Category</th>\n",
       "      <th></th>\n",
       "      <th></th>\n",
       "    </tr>\n",
       "  </thead>\n",
       "  <tbody>\n",
       "    <tr>\n",
       "      <td>GAME</td>\n",
       "      <td>584248</td>\n",
       "      <td>15182926</td>\n",
       "    </tr>\n",
       "    <tr>\n",
       "      <td>WEATHER</td>\n",
       "      <td>549442</td>\n",
       "      <td>15952380</td>\n",
       "    </tr>\n",
       "    <tr>\n",
       "      <td>FAMILY</td>\n",
       "      <td>402617</td>\n",
       "      <td>12462121</td>\n",
       "    </tr>\n",
       "    <tr>\n",
       "      <td>SOCIAL</td>\n",
       "      <td>398044</td>\n",
       "      <td>11944444</td>\n",
       "    </tr>\n",
       "    <tr>\n",
       "      <td>SPORTS</td>\n",
       "      <td>397446</td>\n",
       "      <td>11666666</td>\n",
       "    </tr>\n",
       "    <tr>\n",
       "      <td>VIDEO_PLAYERS</td>\n",
       "      <td>392672</td>\n",
       "      <td>18488372</td>\n",
       "    </tr>\n",
       "    <tr>\n",
       "      <td>PHOTOGRAPHY</td>\n",
       "      <td>370532</td>\n",
       "      <td>17142857</td>\n",
       "    </tr>\n",
       "    <tr>\n",
       "      <td>COMICS</td>\n",
       "      <td>353985</td>\n",
       "      <td>6000000</td>\n",
       "    </tr>\n",
       "    <tr>\n",
       "      <td>PARENTING</td>\n",
       "      <td>338014</td>\n",
       "      <td>7500000</td>\n",
       "    </tr>\n",
       "    <tr>\n",
       "      <td>SHOPPING</td>\n",
       "      <td>320889</td>\n",
       "      <td>12761194</td>\n",
       "    </tr>\n",
       "    <tr>\n",
       "      <td>COMMUNICATION</td>\n",
       "      <td>313202</td>\n",
       "      <td>12361111</td>\n",
       "    </tr>\n",
       "    <tr>\n",
       "      <td>TOOLS</td>\n",
       "      <td>300391</td>\n",
       "      <td>15000000</td>\n",
       "    </tr>\n",
       "    <tr>\n",
       "      <td>FINANCE</td>\n",
       "      <td>280442</td>\n",
       "      <td>8142857</td>\n",
       "    </tr>\n",
       "    <tr>\n",
       "      <td>ENTERTAINMENT</td>\n",
       "      <td>272201</td>\n",
       "      <td>12209302</td>\n",
       "    </tr>\n",
       "    <tr>\n",
       "      <td>BOOKS_AND_REFERENCE</td>\n",
       "      <td>271339</td>\n",
       "      <td>8392857</td>\n",
       "    </tr>\n",
       "    <tr>\n",
       "      <td>PRODUCTIVITY</td>\n",
       "      <td>269358</td>\n",
       "      <td>14855072</td>\n",
       "    </tr>\n",
       "    <tr>\n",
       "      <td>HEALTH_AND_FITNESS</td>\n",
       "      <td>262296</td>\n",
       "      <td>8703703</td>\n",
       "    </tr>\n",
       "    <tr>\n",
       "      <td>PERSONALIZATION</td>\n",
       "      <td>244359</td>\n",
       "      <td>11637931</td>\n",
       "    </tr>\n",
       "    <tr>\n",
       "      <td>FOOD_AND_DRINK</td>\n",
       "      <td>233148</td>\n",
       "      <td>7826086</td>\n",
       "    </tr>\n",
       "    <tr>\n",
       "      <td>NEWS_AND_MAGAZINES</td>\n",
       "      <td>221085</td>\n",
       "      <td>9264705</td>\n",
       "    </tr>\n",
       "    <tr>\n",
       "      <td>BUSINESS</td>\n",
       "      <td>211975</td>\n",
       "      <td>13787878</td>\n",
       "    </tr>\n",
       "    <tr>\n",
       "      <td>LIFESTYLE</td>\n",
       "      <td>197087</td>\n",
       "      <td>8846153</td>\n",
       "    </tr>\n",
       "    <tr>\n",
       "      <td>EDUCATION</td>\n",
       "      <td>192724</td>\n",
       "      <td>7321428</td>\n",
       "    </tr>\n",
       "    <tr>\n",
       "      <td>DATING</td>\n",
       "      <td>188963</td>\n",
       "      <td>7857142</td>\n",
       "    </tr>\n",
       "    <tr>\n",
       "      <td>TRAVEL_AND_LOCAL</td>\n",
       "      <td>185811</td>\n",
       "      <td>11000000</td>\n",
       "    </tr>\n",
       "    <tr>\n",
       "      <td>MAPS_AND_NAVIGATION</td>\n",
       "      <td>182394</td>\n",
       "      <td>10185185</td>\n",
       "    </tr>\n",
       "    <tr>\n",
       "      <td>HOUSE_AND_HOME</td>\n",
       "      <td>159869</td>\n",
       "      <td>7777777</td>\n",
       "    </tr>\n",
       "    <tr>\n",
       "      <td>ART_AND_DESIGN</td>\n",
       "      <td>159125</td>\n",
       "      <td>13125000</td>\n",
       "    </tr>\n",
       "    <tr>\n",
       "      <td>LIBRARIES_AND_DEMO</td>\n",
       "      <td>142858</td>\n",
       "      <td>8000000</td>\n",
       "    </tr>\n",
       "    <tr>\n",
       "      <td>AUTO_AND_VEHICLES</td>\n",
       "      <td>133659</td>\n",
       "      <td>7000000</td>\n",
       "    </tr>\n",
       "    <tr>\n",
       "      <td>MEDICAL</td>\n",
       "      <td>94721</td>\n",
       "      <td>5000000</td>\n",
       "    </tr>\n",
       "    <tr>\n",
       "      <td>BEAUTY</td>\n",
       "      <td>79583</td>\n",
       "      <td>7500000</td>\n",
       "    </tr>\n",
       "    <tr>\n",
       "      <td>EVENTS</td>\n",
       "      <td>33101</td>\n",
       "      <td>5000000</td>\n",
       "    </tr>\n",
       "  </tbody>\n",
       "</table>\n",
       "</div>"
      ],
      "text/plain": [
       "                     Reviews  Installs\n",
       "Category                              \n",
       "GAME                  584248  15182926\n",
       "WEATHER               549442  15952380\n",
       "FAMILY                402617  12462121\n",
       "SOCIAL                398044  11944444\n",
       "SPORTS                397446  11666666\n",
       "VIDEO_PLAYERS         392672  18488372\n",
       "PHOTOGRAPHY           370532  17142857\n",
       "COMICS                353985   6000000\n",
       "PARENTING             338014   7500000\n",
       "SHOPPING              320889  12761194\n",
       "COMMUNICATION         313202  12361111\n",
       "TOOLS                 300391  15000000\n",
       "FINANCE               280442   8142857\n",
       "ENTERTAINMENT         272201  12209302\n",
       "BOOKS_AND_REFERENCE   271339   8392857\n",
       "PRODUCTIVITY          269358  14855072\n",
       "HEALTH_AND_FITNESS    262296   8703703\n",
       "PERSONALIZATION       244359  11637931\n",
       "FOOD_AND_DRINK        233148   7826086\n",
       "NEWS_AND_MAGAZINES    221085   9264705\n",
       "BUSINESS              211975  13787878\n",
       "LIFESTYLE             197087   8846153\n",
       "EDUCATION             192724   7321428\n",
       "DATING                188963   7857142\n",
       "TRAVEL_AND_LOCAL      185811  11000000\n",
       "MAPS_AND_NAVIGATION   182394  10185185\n",
       "HOUSE_AND_HOME        159869   7777777\n",
       "ART_AND_DESIGN        159125  13125000\n",
       "LIBRARIES_AND_DEMO    142858   8000000\n",
       "AUTO_AND_VEHICLES     133659   7000000\n",
       "MEDICAL                94721   5000000\n",
       "BEAUTY                 79583   7500000\n",
       "EVENTS                 33101   5000000"
      ]
     },
     "execution_count": 671,
     "metadata": {},
     "output_type": "execute_result"
    }
   ],
   "source": [
    "groupby_cat.sort_values(\"Reviews\", ascending=False)"
   ]
  },
  {
   "cell_type": "markdown",
   "metadata": {},
   "source": [
    "As we can see from the above, our apps have some number of reviews across all categories. To narrow down our search the more, let's select only app categories that are above the mean for Reviews and Installs categories"
   ]
  },
  {
   "cell_type": "code",
   "execution_count": 672,
   "metadata": {},
   "outputs": [
    {
     "data": {
      "text/plain": [
       "12"
      ]
     },
     "metadata": {},
     "output_type": "display_data"
    },
    {
     "data": {
      "text/html": [
       "<div>\n",
       "<style scoped>\n",
       "    .dataframe tbody tr th:only-of-type {\n",
       "        vertical-align: middle;\n",
       "    }\n",
       "\n",
       "    .dataframe tbody tr th {\n",
       "        vertical-align: top;\n",
       "    }\n",
       "\n",
       "    .dataframe thead th {\n",
       "        text-align: right;\n",
       "    }\n",
       "</style>\n",
       "<table border=\"1\" class=\"dataframe\">\n",
       "  <thead>\n",
       "    <tr style=\"text-align: right;\">\n",
       "      <th></th>\n",
       "      <th>Reviews</th>\n",
       "      <th>Installs</th>\n",
       "    </tr>\n",
       "    <tr>\n",
       "      <th>Category</th>\n",
       "      <th></th>\n",
       "      <th></th>\n",
       "    </tr>\n",
       "  </thead>\n",
       "  <tbody>\n",
       "    <tr>\n",
       "      <td>GAME</td>\n",
       "      <td>584248</td>\n",
       "      <td>15182926</td>\n",
       "    </tr>\n",
       "    <tr>\n",
       "      <td>WEATHER</td>\n",
       "      <td>549442</td>\n",
       "      <td>15952380</td>\n",
       "    </tr>\n",
       "    <tr>\n",
       "      <td>FAMILY</td>\n",
       "      <td>402617</td>\n",
       "      <td>12462121</td>\n",
       "    </tr>\n",
       "    <tr>\n",
       "      <td>SOCIAL</td>\n",
       "      <td>398044</td>\n",
       "      <td>11944444</td>\n",
       "    </tr>\n",
       "    <tr>\n",
       "      <td>SPORTS</td>\n",
       "      <td>397446</td>\n",
       "      <td>11666666</td>\n",
       "    </tr>\n",
       "    <tr>\n",
       "      <td>VIDEO_PLAYERS</td>\n",
       "      <td>392672</td>\n",
       "      <td>18488372</td>\n",
       "    </tr>\n",
       "    <tr>\n",
       "      <td>PHOTOGRAPHY</td>\n",
       "      <td>370532</td>\n",
       "      <td>17142857</td>\n",
       "    </tr>\n",
       "    <tr>\n",
       "      <td>SHOPPING</td>\n",
       "      <td>320889</td>\n",
       "      <td>12761194</td>\n",
       "    </tr>\n",
       "    <tr>\n",
       "      <td>COMMUNICATION</td>\n",
       "      <td>313202</td>\n",
       "      <td>12361111</td>\n",
       "    </tr>\n",
       "    <tr>\n",
       "      <td>TOOLS</td>\n",
       "      <td>300391</td>\n",
       "      <td>15000000</td>\n",
       "    </tr>\n",
       "    <tr>\n",
       "      <td>ENTERTAINMENT</td>\n",
       "      <td>272201</td>\n",
       "      <td>12209302</td>\n",
       "    </tr>\n",
       "    <tr>\n",
       "      <td>PRODUCTIVITY</td>\n",
       "      <td>269358</td>\n",
       "      <td>14855072</td>\n",
       "    </tr>\n",
       "  </tbody>\n",
       "</table>\n",
       "</div>"
      ],
      "text/plain": [
       "               Reviews  Installs\n",
       "Category                        \n",
       "GAME            584248  15182926\n",
       "WEATHER         549442  15952380\n",
       "FAMILY          402617  12462121\n",
       "SOCIAL          398044  11944444\n",
       "SPORTS          397446  11666666\n",
       "VIDEO_PLAYERS   392672  18488372\n",
       "PHOTOGRAPHY     370532  17142857\n",
       "SHOPPING        320889  12761194\n",
       "COMMUNICATION   313202  12361111\n",
       "TOOLS           300391  15000000\n",
       "ENTERTAINMENT   272201  12209302\n",
       "PRODUCTIVITY    269358  14855072"
      ]
     },
     "execution_count": 672,
     "metadata": {},
     "output_type": "execute_result"
    }
   ],
   "source": [
    "reviews_mean = groupby_cat[\"Reviews\"].mean()\n",
    "installs_mean = groupby_cat[\"Installs\"].mean()\n",
    "cat_over_average = (groupby_cat[(groupby_cat[\"Reviews\"]>reviews_mean)\n",
    "                               &(groupby_cat[\"Installs\"]>installs_mean)].copy())\n",
    "\n",
    "display(cat_over_average.shape[0])\n",
    "cat_over_average.sort_values(\"Reviews\", ascending=False)"
   ]
  },
  {
   "cell_type": "markdown",
   "metadata": {},
   "source": [
    "We are left with 12 App Categories that scaled above average for both Installs and Reviews. The installs are about 40 times more than the app reviews. To give us a better visualization of both, we will scale up the reviews column by 10.  Let's now visualize these two columns together to get more understanding of our data."
   ]
  },
  {
   "cell_type": "code",
   "execution_count": 679,
   "metadata": {},
   "outputs": [
    {
     "data": {
      "text/plain": [
       "<matplotlib.axes._subplots.AxesSubplot at 0x12cae3290>"
      ]
     },
     "execution_count": 679,
     "metadata": {},
     "output_type": "execute_result"
    },
    {
     "data": {
      "image/png": "[encoded data removed]",
      "text/plain": [
       "<Figure size 1080x432 with 1 Axes>"
      ]
     },
     "metadata": {
      "needs_background": "light"
     },
     "output_type": "display_data"
    }
   ],
   "source": [
    "over_a_million.reset_index()\n",
    "cat_over_average[\"Reviews\"] = cat_over_average[\"Reviews\"]*10\n",
    "(cat_over_average.sort_values(\"Reviews\", ascending=False)\n",
    ".plot.bar(figsize=(15,6), rot=\"70\", title=\"App Categories by Reviews and Installs\"))"
   ]
  },
  {
   "cell_type": "markdown",
   "metadata": {},
   "source": [
    "While apps from GAME category have the highest reviews, apps from Video_Players category recorded the highest installs. As both installs and reviews are important factors any app we are intending to build, we will need to also both under consideration at this point. One way we could do this is to select the app category with the most reviews (GAME) and the app category with the highest installs (Video_Players) as our possible app categories. \n",
    "\n",
    "Let's examine the installs for apps in the two categories a little further."
   ]
  },
  {
   "cell_type": "code",
   "execution_count": 674,
   "metadata": {},
   "outputs": [
    {
     "data": {
      "text/plain": [
       "count         328\n",
       "mean     15182926\n",
       "std      15630385\n",
       "min       5000000\n",
       "25%       5000000\n",
       "50%      10000000\n",
       "75%      10000000\n",
       "max      50000000\n",
       "Name: Installs, dtype: int64"
      ]
     },
     "execution_count": 674,
     "metadata": {},
     "output_type": "execute_result"
    }
   ],
   "source": [
    "game_apps = over_a_million[over_a_million[\"Category\"] == \"GAME\"]\n",
    "game_apps[\"Installs\"].describe().astype(int)"
   ]
  },
  {
   "cell_type": "code",
   "execution_count": 694,
   "metadata": {},
   "outputs": [
    {
     "data": {
      "text/plain": [
       "<matplotlib.axes._subplots.AxesSubplot at 0x12c824f50>"
      ]
     },
     "execution_count": 694,
     "metadata": {},
     "output_type": "execute_result"
    },
    {
     "data": {
      "image/png": "[encoded data removed]",
      "text/plain": [
       "<Figure size 1080x432 with 1 Axes>"
      ]
     },
     "metadata": {
      "needs_background": "light"
     },
     "output_type": "display_data"
    }
   ],
   "source": [
    "game_apps[\"Installs\"].plot.kde(title=\"Game App Installs Distribution\", figsize=(15,6))"
   ]
  },
  {
   "cell_type": "markdown",
   "metadata": {},
   "source": [
    "75% of the Game Category Apps has installs of 10 million which is about 25 percent below the mean for Game categories. This might imply that a few apps (firms) have greater percentage of the Game Apps on Google Store. This also means opportunity for new market entrants. "
   ]
  },
  {
   "cell_type": "code",
   "execution_count": 676,
   "metadata": {},
   "outputs": [
    {
     "data": {
      "text/plain": [
       "count          43\n",
       "mean     18488372\n",
       "std      17645142\n",
       "min       5000000\n",
       "25%      10000000\n",
       "50%      10000000\n",
       "75%      10000000\n",
       "max      50000000\n",
       "Name: Installs, dtype: int64"
      ]
     },
     "execution_count": 676,
     "metadata": {},
     "output_type": "execute_result"
    }
   ],
   "source": [
    "video_apps = over_a_million[over_a_million[\"Category\"] == \"VIDEO_PLAYERS\"]\n",
    "video_apps[\"Installs\"].describe().astype(int)"
   ]
  },
  {
   "cell_type": "code",
   "execution_count": 695,
   "metadata": {},
   "outputs": [
    {
     "data": {
      "text/plain": [
       "<matplotlib.axes._subplots.AxesSubplot at 0x12b858e10>"
      ]
     },
     "execution_count": 695,
     "metadata": {},
     "output_type": "execute_result"
    },
    {
     "data": {
      "image/png": "[encoded data removed]",
      "text/plain": [
       "<Figure size 1080x432 with 1 Axes>"
      ]
     },
     "metadata": {
      "needs_background": "light"
     },
     "output_type": "display_data"
    }
   ],
   "source": [
    "video_apps[\"Installs\"].plot.kde(title=\"Video_Players App Installs Distribution\",figsize=(15,6))"
   ]
  },
  {
   "cell_type": "markdown",
   "metadata": {},
   "source": [
    "Just like the Game apps, the video_player apps are skewed to the right with the third percentile of the apps below the average installs by about 48 percent. This is also shows room for market entry opportunity."
   ]
  },
  {
   "cell_type": "markdown",
   "metadata": {},
   "source": [
    "# Way Forward\n",
    "\n",
    "Although this project ended up with selected apps from Game and Video_Player cateories, there is still a lot more work to be done. More data specific to apps of this two categories may be required to be able to make a category specific recommendation. Reviews from mobile games and video_player app users would in particular be very helpful in identifying what the users expect to have in their app. For instance, requests for unavailable features or  negative reviews may give birth to a very resourceful idea that could be improved upon as a unique selling point of our app. "
   ]
  },
  {
   "cell_type": "markdown",
   "metadata": {},
   "source": [
    "# Conclusion\n",
    "\n",
    "In this project, we analyzed app data from Google Play mobile apps with the goal of recommending a potential profitable app for the market.\n",
    "We concluded that there are still good opportunity to be profitable with apps in Game and Video_Player categories. With a few apps in control of the apps market and with each of the apps recording installs over 10m on average, there is a need to apply great creativity and uniqueness while developing new apps to enable them break into the market. "
   ]
  }
 ],
 "metadata": {
  "kernelspec": {
   "display_name": "Python 3",
   "language": "python",
   "name": "python3"
  },
  "language_info": {
   "codemirror_mode": {
    "name": "ipython",
    "version": 3
   },
   "file_extension": ".py",
   "mimetype": "text/x-python",
   "name": "python",
   "nbconvert_exporter": "python",
   "pygments_lexer": "ipython3",
   "version": "3.7.4"
  }
 },
 "nbformat": 4,
 "nbformat_minor": 4
}
